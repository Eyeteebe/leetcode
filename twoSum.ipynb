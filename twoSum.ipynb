{
 "cells": [
  {
   "cell_type": "markdown",
   "metadata": {},
   "source": [
    "# twoSum\n",
    "- 给定一个整数数组和一个目标值，找出数组中和为目标值的两个数。你可以假设每个输入只对应一种答案，且同样的元素不能被重复利用。\n",
    "- 示例:\n",
    "给定 nums = [2, 7, 11, 15], target = 9\n",
    "因为 nums[0] + nums[1] = 2 + 7 = 9\n",
    "所以返回 [0, 1]\n",
    "\n",
    "---\n",
    "\n",
    "- 该题使用了unordered_map类，链接：\n",
    "[unordered_map](https://msdn.microsoft.com/zh-cn/library/bb982522.aspx)"
   ]
  },
  {
   "cell_type": "code",
   "execution_count": null,
   "metadata": {},
   "outputs": [],
   "source": [
    "class Solution {\n",
    "public:\n",
    "    vector<int> twoSum(vector<int>& nums, int target) {\n",
    "        unordered_map<int, int> numsMap;\n",
    "        for (int i = 0; i < nums.size(); ++i) {\n",
    "            if (numsMap.count(target - nums[i])) {\n",
    "                return {i, numsMap[target - nums[i]]};\n",
    "            }\n",
    "            numsMap[nums[i]] = i;\n",
    "        }\n",
    "        return {};\n",
    "    }\n",
    "};"
   ]
  }
 ],
 "metadata": {
  "kernelspec": {
   "display_name": "C++14",
   "language": "C++",
   "name": "cling-cpp14"
  },
  "language_info": {
   "codemirror_mode": "c++",
   "file_extension": ".c++",
   "mimetype": "text/x-c++src",
   "name": "c++"
  }
 },
 "nbformat": 4,
 "nbformat_minor": 2
}
